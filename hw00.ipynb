{
 "cells": [
  {
   "cell_type": "code",
   "execution_count": 1,
   "id": "9d57989e-9042-47b3-a054-6bf6ae70b2f4",
   "metadata": {},
   "outputs": [],
   "source": [
    "import pandas as pd\n",
    "import numpy as np"
   ]
  },
  {
   "cell_type": "code",
   "execution_count": 2,
   "id": "834e9af6-d97b-47e1-b6da-8e393d63c134",
   "metadata": {},
   "outputs": [],
   "source": [
    "tdf = pd.DataFrame([['a','b','c'],['b','c','d'],['a','b','c']], columns=['a1','a2','a3'])"
   ]
  },
  {
   "cell_type": "code",
   "execution_count": 3,
   "id": "ffab939e-0523-4596-80b7-1473b274ec62",
   "metadata": {},
   "outputs": [],
   "source": [
    "def encoder(df, method='one-hot'):\n",
    "    assert method=='one-hot', f'{method} has not been implemented'\n",
    "    feature_list = []\n",
    "    for col in tdf.columns.to_list():\n",
    "        feature_list.extend([col + '_' + i for i in sorted(list(set(tdf[col])))])\n",
    "    \n",
    "    ret_df = pd.DataFrame(0, index=np.arange(len(tdf)), columns=feature_list)\n",
    "    \n",
    "    for col in tdf.columns.to_list():\n",
    "        for n, val in enumerate(tdf[col]):\n",
    "            ret_df[col + '_' + val][n] = 1\n",
    "    return ret_df"
   ]
  },
  {
   "cell_type": "code",
   "execution_count": 4,
   "id": "ec8983c9-0c24-4bed-9c2e-65b2851dc4ce",
   "metadata": {},
   "outputs": [
    {
     "data": {
      "text/html": [
       "<div>\n",
       "<style scoped>\n",
       "    .dataframe tbody tr th:only-of-type {\n",
       "        vertical-align: middle;\n",
       "    }\n",
       "\n",
       "    .dataframe tbody tr th {\n",
       "        vertical-align: top;\n",
       "    }\n",
       "\n",
       "    .dataframe thead th {\n",
       "        text-align: right;\n",
       "    }\n",
       "</style>\n",
       "<table border=\"1\" class=\"dataframe\">\n",
       "  <thead>\n",
       "    <tr style=\"text-align: right;\">\n",
       "      <th></th>\n",
       "      <th>a1</th>\n",
       "      <th>a2</th>\n",
       "      <th>a3</th>\n",
       "    </tr>\n",
       "  </thead>\n",
       "  <tbody>\n",
       "    <tr>\n",
       "      <th>0</th>\n",
       "      <td>a</td>\n",
       "      <td>b</td>\n",
       "      <td>c</td>\n",
       "    </tr>\n",
       "    <tr>\n",
       "      <th>1</th>\n",
       "      <td>b</td>\n",
       "      <td>c</td>\n",
       "      <td>d</td>\n",
       "    </tr>\n",
       "    <tr>\n",
       "      <th>2</th>\n",
       "      <td>a</td>\n",
       "      <td>b</td>\n",
       "      <td>c</td>\n",
       "    </tr>\n",
       "  </tbody>\n",
       "</table>\n",
       "</div>"
      ],
      "text/plain": [
       "  a1 a2 a3\n",
       "0  a  b  c\n",
       "1  b  c  d\n",
       "2  a  b  c"
      ]
     },
     "execution_count": 4,
     "metadata": {},
     "output_type": "execute_result"
    }
   ],
   "source": [
    "tdf"
   ]
  },
  {
   "cell_type": "code",
   "execution_count": 5,
   "id": "62632554-6321-4df4-851a-56afcf81a4a4",
   "metadata": {},
   "outputs": [
    {
     "data": {
      "text/html": [
       "<div>\n",
       "<style scoped>\n",
       "    .dataframe tbody tr th:only-of-type {\n",
       "        vertical-align: middle;\n",
       "    }\n",
       "\n",
       "    .dataframe tbody tr th {\n",
       "        vertical-align: top;\n",
       "    }\n",
       "\n",
       "    .dataframe thead th {\n",
       "        text-align: right;\n",
       "    }\n",
       "</style>\n",
       "<table border=\"1\" class=\"dataframe\">\n",
       "  <thead>\n",
       "    <tr style=\"text-align: right;\">\n",
       "      <th></th>\n",
       "      <th>a1_a</th>\n",
       "      <th>a1_b</th>\n",
       "      <th>a2_b</th>\n",
       "      <th>a2_c</th>\n",
       "      <th>a3_c</th>\n",
       "      <th>a3_d</th>\n",
       "    </tr>\n",
       "  </thead>\n",
       "  <tbody>\n",
       "    <tr>\n",
       "      <th>0</th>\n",
       "      <td>1</td>\n",
       "      <td>0</td>\n",
       "      <td>1</td>\n",
       "      <td>0</td>\n",
       "      <td>1</td>\n",
       "      <td>0</td>\n",
       "    </tr>\n",
       "    <tr>\n",
       "      <th>1</th>\n",
       "      <td>0</td>\n",
       "      <td>1</td>\n",
       "      <td>0</td>\n",
       "      <td>1</td>\n",
       "      <td>0</td>\n",
       "      <td>1</td>\n",
       "    </tr>\n",
       "    <tr>\n",
       "      <th>2</th>\n",
       "      <td>1</td>\n",
       "      <td>0</td>\n",
       "      <td>1</td>\n",
       "      <td>0</td>\n",
       "      <td>1</td>\n",
       "      <td>0</td>\n",
       "    </tr>\n",
       "  </tbody>\n",
       "</table>\n",
       "</div>"
      ],
      "text/plain": [
       "   a1_a  a1_b  a2_b  a2_c  a3_c  a3_d\n",
       "0     1     0     1     0     1     0\n",
       "1     0     1     0     1     0     1\n",
       "2     1     0     1     0     1     0"
      ]
     },
     "execution_count": 5,
     "metadata": {},
     "output_type": "execute_result"
    }
   ],
   "source": [
    "encoder(tdf)"
   ]
  },
  {
   "cell_type": "code",
   "execution_count": null,
   "id": "1c067a0d-b263-4067-a064-758f9e627594",
   "metadata": {},
   "outputs": [],
   "source": []
  }
 ],
 "metadata": {
  "kernelspec": {
   "display_name": "Python 3 (ipykernel)",
   "language": "python",
   "name": "python3"
  },
  "language_info": {
   "codemirror_mode": {
    "name": "ipython",
    "version": 3
   },
   "file_extension": ".py",
   "mimetype": "text/x-python",
   "name": "python",
   "nbconvert_exporter": "python",
   "pygments_lexer": "ipython3",
   "version": "3.8.10"
  }
 },
 "nbformat": 4,
 "nbformat_minor": 5
}
