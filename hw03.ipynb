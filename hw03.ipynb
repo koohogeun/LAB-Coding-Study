{
 "cells": [
  {
   "cell_type": "code",
   "execution_count": 1,
   "id": "9f23a55b-ffea-496b-a4c4-9633e23c395f",
   "metadata": {},
   "outputs": [],
   "source": [
    "import tensorflow as tf\n",
    "from tqdm.notebook import tqdm\n",
    "from matplotlib import pyplot as plt\n",
    "gpus = tf.config.list_physical_devices('GPU')\n",
    "tf.config.experimental.set_memory_growth(gpus[0],True)"
   ]
  },
  {
   "cell_type": "code",
   "execution_count": 2,
   "id": "b6791340-f417-419e-ab45-286a24616455",
   "metadata": {},
   "outputs": [],
   "source": [
    "import numpy as np\n",
    "import math\n",
    "from tensorflow.keras.utils import Sequence\n",
    "\n",
    "class Dataloader(Sequence):\n",
    "    def __init__(self, x_set, y_set, batch_size, shuffle=False):\n",
    "        self.x, self.y = x_set, y_set\n",
    "        self.batch_size = batch_size\n",
    "        self.shuffle=shuffle\n",
    "        self.on_epoch_end()\n",
    "\n",
    "    def __len__(self):\n",
    "        return math.ceil(len(self.x) / self.batch_size)\n",
    "\n",
    "    def __getitem__(self, idx):\n",
    "        indices = self.indices[idx*self.batch_size:(idx+1)*self.batch_size]\n",
    "\n",
    "        batch_x = [self.x[i] for i in indices]\n",
    "        batch_y = [self.y[i] for i in indices]\n",
    "\n",
    "        return np.expand_dims(np.array(batch_x), -1), np.array(batch_y)\n",
    "\n",
    "    def on_epoch_end(self):\n",
    "        self.indices = np.arange(len(self.x))\n",
    "        if self.shuffle == True:\n",
    "            np.random.shuffle(self.indices)"
   ]
  },
  {
   "cell_type": "code",
   "execution_count": 3,
   "id": "1d56553c-33b4-416e-853b-f55ee8ca8a70",
   "metadata": {},
   "outputs": [],
   "source": [
    "data_train, data_test = tf.keras.datasets.mnist.load_data()"
   ]
  },
  {
   "cell_type": "code",
   "execution_count": 6,
   "id": "5e3b1a69-966a-4ea7-8839-5d2a4b5507d1",
   "metadata": {},
   "outputs": [],
   "source": [
    "batch_size = 50\n",
    "(images_train, labels_train) = data_train\n",
    "(images_test, labels_test) = data_test\n",
    "images_train, images_test = images_train / 255.0, images_test / 255.0\n",
    "labels_train = np.eye(10)[labels_train]\n",
    "labels_test = np.eye(10)[labels_test]\n",
    "train_loader = Dataloader(images_train, labels_train, batch_size, shuffle=True)\n",
    "test_loader = Dataloader(images_test, labels_test, batch_size)"
   ]
  },
  {
   "cell_type": "code",
   "execution_count": 7,
   "id": "5f5a5bbf-9cc6-4958-83f4-fb7cafed34b9",
   "metadata": {},
   "outputs": [],
   "source": [
    "from itertools import product\n",
    "class cnn_Layer(tf.keras.layers.Layer):\n",
    "    def __init__(\n",
    "        self,\n",
    "        img_size,\n",
    "        input_channel,\n",
    "        output_channel,\n",
    "        kernel_size,\n",
    "    ):\n",
    "        super().__init__()\n",
    "        \n",
    "        tf_initializer = tf.random_normal_initializer()\n",
    "        \n",
    "        self.output_channel = output_channel\n",
    "        self.kernel_size = (kernel_size, kernel_size)\n",
    "        self.pad_size = kernel_size // 2\n",
    "        \n",
    "        self.n_samples = None\n",
    "        self.width = None\n",
    "        self.height = None\n",
    "\n",
    "        self.weight = tf.Variable(tf_initializer((output_channel, kernel_size, kernel_size, input_channel)))\n",
    "        self.bias = tf.Variable(tf_initializer((output_channel,)))\n",
    "        \n",
    "    # pad image\n",
    "    def _add_pad(self, img):\n",
    "        self.n_samples, self.width, self.height, _ = img.shape\n",
    "        return tf.pad(img,[[0,0],[1,1],[1,1],[0,0]])\n",
    "    \n",
    "    # sliced image\n",
    "    def _slicing(self, img):\n",
    "        # product는 뒤에 있는게 먼저 작동함\n",
    "        n_samples, width, height, channel = img.shape\n",
    "        stack = [\n",
    "            img[\n",
    "                :,\n",
    "                w:w+self.kernel_size[0],\n",
    "                h:h+self.kernel_size[1],\n",
    "                :\n",
    "            ] for w,h in product(\n",
    "                range(width - self.kernel_size[0] + 1), \n",
    "                range(height - self.kernel_size[1] + 1)\n",
    "            )\n",
    "        ]\n",
    "        return tf.stack(stack, axis=-1)\n",
    "    \n",
    "    # weight product\n",
    "    def _weight_product(self, features):\n",
    "        stack = []\n",
    "        for n in range(self.output_channel):\n",
    "            w = self.weight[n]\n",
    "            stack.append(tf.math.multiply(tf.expand_dims(tf.expand_dims(w, 0),-1), features))\n",
    "        stack = tf.stack(stack,-1)\n",
    "        stack = tf.reduce_sum(stack, [1,2,3])\n",
    "        stack = tf.reshape(stack, [self.n_samples, self.width, self.height, self.output_channel])\n",
    "        stack = tf.add(stack, self.bias)\n",
    "        return stack\n",
    "    \n",
    "    def __call__(self, img):\n",
    "        pad_img = self._add_pad(img)\n",
    "        sliced_img = self._slicing(pad_img)\n",
    "        features = self._weight_product(sliced_img)\n",
    "        return features"
   ]
  },
  {
   "cell_type": "code",
   "execution_count": 14,
   "id": "71929c66-5e32-4914-8782-22012e5a3465",
   "metadata": {},
   "outputs": [],
   "source": [
    "class CNN(tf.keras.Model):\n",
    "    def __init__(self, img_shape, channel_lists, kernel_size, n_class = 10):\n",
    "        super().__init__()\n",
    "        \n",
    "        self.channel_lists = channel_lists\n",
    "        \n",
    "        self.cnn_layers = [\n",
    "            cnn_Layer(img_shape, i, o, kernel_size) for i,o in zip(channel_lists, channel_lists[1:])\n",
    "        ]\n",
    "        \n",
    "        self.batch_layers = [\n",
    "            tf.keras.layers.BatchNormalization() for o in channel_lists[1:]\n",
    "        ]\n",
    "        \n",
    "        self.output_layers = tf.keras.layers.Dense(n_class, activation='relu')\n",
    "        self.a = tf.keras.layers.ReLU()\n",
    "        self.d = tf.keras.layers.Dropout(.3)\n",
    "\n",
    "    # @tf.function\n",
    "    def call(self, img, training = True):\n",
    "        x = tf.cast(img, tf.float32)\n",
    "        \n",
    "        for l,b in zip(self.cnn_layers, self.batch_layers):\n",
    "            x = tf.transpose(l(x), perm=[0,3,1,2])\n",
    "            x = tf.transpose(b(x), perm=[0,2,3,1])\n",
    "            x = self.a(x)\n",
    "            x = self.d(x, training)        \n",
    "        \n",
    "        x = tf.reshape(x, [img.shape[0], -1, self.channel_lists[-1]])\n",
    "        x = tf.reduce_max(x, axis=1)\n",
    "        \n",
    "        return tf.nn.softmax(self.output_layers(x),-1)\n",
    "    \n",
    "    def layer_maps(self, img):\n",
    "        maps = []\n",
    "        x = img\n",
    "        for l,b in zip(self.cnn_layers, self.batch_layers):\n",
    "            x = tf.transpose(l(x), perm=[0,3,1,2])\n",
    "            maps.append(x)\n",
    "            x = tf.transpose(b(x), perm=[0,2,3,1])\n",
    "            x = self.a(x)\n",
    "            x = self.d(x, training)\n",
    "        return maps"
   ]
  },
  {
   "cell_type": "code",
   "execution_count": 15,
   "id": "b9994b5e-c752-4491-90f5-7f84be8e2011",
   "metadata": {},
   "outputs": [],
   "source": [
    "class tf_trainer:\n",
    "    def __init__(self, model, data_loader):\n",
    "        self.model = model\n",
    "        self.data_loader = data_loader\n",
    "        self.optimizer = tf.keras.optimizers.Adam()\n",
    "        self.loss_fn = tf.keras.losses.CategoricalCrossentropy()\n",
    "        \n",
    "    def __training_batch_step__(self, batch):\n",
    "        x,y = batch\n",
    "        with tf.GradientTape() as t:\n",
    "            y_hat = self.model(x, training = True)\n",
    "            loss = self.loss_fn(y, y_hat)\n",
    "        grad = t.gradient(loss, self.model.trainable_variables)\n",
    "        self.optimizer.apply_gradients(zip(grad, self.model.trainable_variables))\n",
    "        return loss\n",
    "\n",
    "    def __training_epoch__(self, epoch_numb):\n",
    "        loss_lists = []\n",
    "        TQ = tqdm(self.data_loader)\n",
    "        for n, batch in enumerate(TQ,1):\n",
    "            loss_lists.append(self.__training_batch_step__(batch))\n",
    "            TQ.set_description_str(f'Epoch : {epoch_numb}')\n",
    "            TQ.set_postfix_str(f'Loss : {sum(loss_lists) / n:.5}')\n",
    "        return sum(loss_lists) / n\n",
    "    \n",
    "    def fit(self, loop_numb):\n",
    "        history = dict(\n",
    "            loss = []\n",
    "        )\n",
    "        for n in range(loop_numb):\n",
    "            history['loss'].append(\n",
    "                self.__training_epoch__(n)\n",
    "            )\n",
    "        return history"
   ]
  },
  {
   "cell_type": "code",
   "execution_count": 16,
   "id": "53c9285e-32da-462c-933a-29dfca9bdfc9",
   "metadata": {},
   "outputs": [],
   "source": [
    "tf_dicts = dict(\n",
    "    img_shape = 28,\n",
    "    channel_lists = [1, 8, 16, 32],\n",
    "    kernel_size = 3,\n",
    ")"
   ]
  },
  {
   "cell_type": "code",
   "execution_count": 17,
   "id": "d8de01c6-cebf-4777-86e2-6987ca157125",
   "metadata": {},
   "outputs": [],
   "source": [
    "manual_tf_model = CNN(**tf_dicts)"
   ]
  },
  {
   "cell_type": "code",
   "execution_count": 18,
   "id": "a0beaa68-55f0-406a-b1b7-6270059e8b91",
   "metadata": {},
   "outputs": [],
   "source": [
    "trainer = tf_trainer(manual_tf_model, train_loader)"
   ]
  },
  {
   "cell_type": "code",
   "execution_count": 19,
   "id": "404c6cfd-7b6a-4437-9cdf-766209b6625c",
   "metadata": {},
   "outputs": [
    {
     "data": {
      "application/vnd.jupyter.widget-view+json": {
       "model_id": "08027ee362e441a89a0a89d1391b88f5",
       "version_major": 2,
       "version_minor": 0
      },
      "text/plain": [
       "  0%|          | 0/1200 [00:00<?, ?it/s]"
      ]
     },
     "metadata": {},
     "output_type": "display_data"
    },
    {
     "data": {
      "application/vnd.jupyter.widget-view+json": {
       "model_id": "5d48f6f8d83447209cc1b732371c8160",
       "version_major": 2,
       "version_minor": 0
      },
      "text/plain": [
       "  0%|          | 0/1200 [00:00<?, ?it/s]"
      ]
     },
     "metadata": {},
     "output_type": "display_data"
    },
    {
     "data": {
      "application/vnd.jupyter.widget-view+json": {
       "model_id": "67eee925aea540baa52315fbb74076e5",
       "version_major": 2,
       "version_minor": 0
      },
      "text/plain": [
       "  0%|          | 0/1200 [00:00<?, ?it/s]"
      ]
     },
     "metadata": {},
     "output_type": "display_data"
    },
    {
     "data": {
      "application/vnd.jupyter.widget-view+json": {
       "model_id": "6477342aaa014f16871c71dd91375247",
       "version_major": 2,
       "version_minor": 0
      },
      "text/plain": [
       "  0%|          | 0/1200 [00:00<?, ?it/s]"
      ]
     },
     "metadata": {},
     "output_type": "display_data"
    },
    {
     "data": {
      "application/vnd.jupyter.widget-view+json": {
       "model_id": "91fd5cd992f944bf95ec564b3ea786b1",
       "version_major": 2,
       "version_minor": 0
      },
      "text/plain": [
       "  0%|          | 0/1200 [00:00<?, ?it/s]"
      ]
     },
     "metadata": {},
     "output_type": "display_data"
    },
    {
     "data": {
      "application/vnd.jupyter.widget-view+json": {
       "model_id": "5656a0f52cb74e58ae6709fc693e1095",
       "version_major": 2,
       "version_minor": 0
      },
      "text/plain": [
       "  0%|          | 0/1200 [00:00<?, ?it/s]"
      ]
     },
     "metadata": {},
     "output_type": "display_data"
    },
    {
     "data": {
      "application/vnd.jupyter.widget-view+json": {
       "model_id": "b9e0ef8fa4124b72aeadad077c36a0a4",
       "version_major": 2,
       "version_minor": 0
      },
      "text/plain": [
       "  0%|          | 0/1200 [00:00<?, ?it/s]"
      ]
     },
     "metadata": {},
     "output_type": "display_data"
    },
    {
     "data": {
      "application/vnd.jupyter.widget-view+json": {
       "model_id": "036d7d9ae9ba4c61b75815c10425c359",
       "version_major": 2,
       "version_minor": 0
      },
      "text/plain": [
       "  0%|          | 0/1200 [00:00<?, ?it/s]"
      ]
     },
     "metadata": {},
     "output_type": "display_data"
    },
    {
     "data": {
      "application/vnd.jupyter.widget-view+json": {
       "model_id": "524fcc2c58714a6aac8332c5b7c04629",
       "version_major": 2,
       "version_minor": 0
      },
      "text/plain": [
       "  0%|          | 0/1200 [00:00<?, ?it/s]"
      ]
     },
     "metadata": {},
     "output_type": "display_data"
    },
    {
     "data": {
      "application/vnd.jupyter.widget-view+json": {
       "model_id": "a2591ea3302c417cafef5ef1085307c3",
       "version_major": 2,
       "version_minor": 0
      },
      "text/plain": [
       "  0%|          | 0/1200 [00:00<?, ?it/s]"
      ]
     },
     "metadata": {},
     "output_type": "display_data"
    },
    {
     "data": {
      "application/vnd.jupyter.widget-view+json": {
       "model_id": "5918bf35dce0437bbbefc2a02f34e3e3",
       "version_major": 2,
       "version_minor": 0
      },
      "text/plain": [
       "  0%|          | 0/1200 [00:00<?, ?it/s]"
      ]
     },
     "metadata": {},
     "output_type": "display_data"
    },
    {
     "data": {
      "application/vnd.jupyter.widget-view+json": {
       "model_id": "930a5482aef34faeb515487ffe1eb877",
       "version_major": 2,
       "version_minor": 0
      },
      "text/plain": [
       "  0%|          | 0/1200 [00:00<?, ?it/s]"
      ]
     },
     "metadata": {},
     "output_type": "display_data"
    },
    {
     "data": {
      "application/vnd.jupyter.widget-view+json": {
       "model_id": "f15d4d41cbdf4e5da2896117ef3c2c9c",
       "version_major": 2,
       "version_minor": 0
      },
      "text/plain": [
       "  0%|          | 0/1200 [00:00<?, ?it/s]"
      ]
     },
     "metadata": {},
     "output_type": "display_data"
    },
    {
     "data": {
      "application/vnd.jupyter.widget-view+json": {
       "model_id": "ec49ac5bea41409cb07ab35866600982",
       "version_major": 2,
       "version_minor": 0
      },
      "text/plain": [
       "  0%|          | 0/1200 [00:00<?, ?it/s]"
      ]
     },
     "metadata": {},
     "output_type": "display_data"
    },
    {
     "data": {
      "application/vnd.jupyter.widget-view+json": {
       "model_id": "96995ce2cda54051ae09a80cc140678c",
       "version_major": 2,
       "version_minor": 0
      },
      "text/plain": [
       "  0%|          | 0/1200 [00:00<?, ?it/s]"
      ]
     },
     "metadata": {},
     "output_type": "display_data"
    },
    {
     "data": {
      "application/vnd.jupyter.widget-view+json": {
       "model_id": "37b6a166dfc44f3d96a0c8f6b4093fb9",
       "version_major": 2,
       "version_minor": 0
      },
      "text/plain": [
       "  0%|          | 0/1200 [00:00<?, ?it/s]"
      ]
     },
     "metadata": {},
     "output_type": "display_data"
    },
    {
     "data": {
      "application/vnd.jupyter.widget-view+json": {
       "model_id": "0c9ea10d6dbe4bc6b792fd28ff0ac582",
       "version_major": 2,
       "version_minor": 0
      },
      "text/plain": [
       "  0%|          | 0/1200 [00:00<?, ?it/s]"
      ]
     },
     "metadata": {},
     "output_type": "display_data"
    },
    {
     "data": {
      "application/vnd.jupyter.widget-view+json": {
       "model_id": "199f530ba7174cef96c39b33cf4529d5",
       "version_major": 2,
       "version_minor": 0
      },
      "text/plain": [
       "  0%|          | 0/1200 [00:00<?, ?it/s]"
      ]
     },
     "metadata": {},
     "output_type": "display_data"
    },
    {
     "data": {
      "application/vnd.jupyter.widget-view+json": {
       "model_id": "7941cd0a5745484f98a2f4509fe62ded",
       "version_major": 2,
       "version_minor": 0
      },
      "text/plain": [
       "  0%|          | 0/1200 [00:00<?, ?it/s]"
      ]
     },
     "metadata": {},
     "output_type": "display_data"
    },
    {
     "data": {
      "application/vnd.jupyter.widget-view+json": {
       "model_id": "5b2d5ef6bbe04d24b14b3ceeb84f6912",
       "version_major": 2,
       "version_minor": 0
      },
      "text/plain": [
       "  0%|          | 0/1200 [00:00<?, ?it/s]"
      ]
     },
     "metadata": {},
     "output_type": "display_data"
    },
    {
     "data": {
      "text/plain": [
       "[<matplotlib.lines.Line2D at 0x7fd2c698d070>]"
      ]
     },
     "execution_count": 19,
     "metadata": {},
     "output_type": "execute_result"
    },
    {
     "data": {
      "image/png": "[encoded data removed]",
      "text/plain": [
       "<Figure size 432x288 with 1 Axes>"
      ]
     },
     "metadata": {
      "needs_background": "light"
     },
     "output_type": "display_data"
    }
   ],
   "source": [
    "plt.plot(trainer.fit(20)['loss'])"
   ]
  }
 ],
 "metadata": {
  "kernelspec": {
   "display_name": "Python 3 (ipykernel)",
   "language": "python",
   "name": "python3"
  },
  "language_info": {
   "codemirror_mode": {
    "name": "ipython",
    "version": 3
   },
   "file_extension": ".py",
   "mimetype": "text/x-python",
   "name": "python",
   "nbconvert_exporter": "python",
   "pygments_lexer": "ipython3",
   "version": "3.8.10"
  }
 },
 "nbformat": 4,
 "nbformat_minor": 5
}
